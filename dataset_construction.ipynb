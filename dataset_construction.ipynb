{
 "cells": [
  {
   "cell_type": "markdown",
   "metadata": {},
   "source": [
    "# Dataset Construction\n",
    "\n",
    "In this notebook we constructed the dataset for training by linking all these messy dataframes.\n",
    "\n",
    "Some highlights:\n",
    "\n",
    "* We simplified the problem by assuming a user would only consider buying staff he has bought before in 'prior' session\n",
    "* For each user-product pair appeared before, generate statistical features about user, about product (including aisles and departments the products are associated with), and about this pairs."
   ]
  },
  {
   "cell_type": "code",
   "execution_count": 1,
   "metadata": {
    "collapsed": false
   },
   "outputs": [],
   "source": [
    "import gc\n",
    "import time\n",
    "import numpy as np \n",
    "import pandas as pd \n",
    "from sklearn.model_selection import train_test_split\n",
    "from subprocess import check_output\n",
    "from util import *"
   ]
  },
  {
   "cell_type": "code",
   "execution_count": 2,
   "metadata": {
    "collapsed": false
   },
   "outputs": [
    {
     "data": {
      "text/plain": [
       "46"
      ]
     },
     "execution_count": 2,
     "metadata": {},
     "output_type": "execute_result"
    }
   ],
   "source": [
    "path_data = './data/'\n",
    "priors, train, orders, products, aisles, departments, sample_submission = load_data(path_data)\n",
    "products = products.merge(right=aisles,how='left',on='aisle_id')\n",
    "products = products.merge(right=departments,how='left',on='department_id')\n",
    "del aisles\n",
    "del departments\n",
    "gc.collect()"
   ]
  },
  {
   "cell_type": "markdown",
   "metadata": {},
   "source": [
    "*priors_orders_detail* contains order entries included in *priors*, so there could exists products in *train* that is omitted."
   ]
  },
  {
   "cell_type": "code",
   "execution_count": 3,
   "metadata": {
    "collapsed": false
   },
   "outputs": [
    {
     "name": "stdout",
     "output_type": "stream",
     "text": [
      "add stats features begin ......\n",
      "add stats features end ......\n",
      "time lapsing 121.348473072 s \n",
      "\n"
     ]
    }
   ],
   "source": [
    "priors_orders_detail = orders.merge(right=priors, how='inner', on='order_id')\n",
    "priors_orders_detail['_user_buy_product_times'] = priors_orders_detail.groupby(['user_id', 'product_id']).cumcount() + 1\n",
    "agg_dict = {'user_id':{'_prod_tot_cnts':'count'}, \n",
    "            'reordered':{'_prod_reorder_tot_cnts':'sum'}, \n",
    "            '_user_buy_product_times': {'_prod_buy_first_time_total_cnt':lambda x: sum(x==1),\n",
    "                                        '_prod_buy_second_time_total_cnt':lambda x: sum(x==2)}}\n",
    "prd = ka_add_groupby_features_1_vs_n(priors_orders_detail, ['product_id'], agg_dict)"
   ]
  },
  {
   "cell_type": "code",
   "execution_count": 4,
   "metadata": {
    "collapsed": false
   },
   "outputs": [
    {
     "data": {
      "text/plain": [
       "['order_id',\n",
       " 'user_id',\n",
       " 'eval_set',\n",
       " 'order_number',\n",
       " 'order_dow',\n",
       " 'order_hour_of_day',\n",
       " 'days_since_prior_order',\n",
       " 'product_id',\n",
       " 'add_to_cart_order',\n",
       " 'reordered',\n",
       " '_user_buy_product_times']"
      ]
     },
     "execution_count": 4,
     "metadata": {},
     "output_type": "execute_result"
    }
   ],
   "source": [
    "list(priors_orders_detail.columns)"
   ]
  },
  {
   "cell_type": "code",
   "execution_count": 5,
   "metadata": {
    "collapsed": false
   },
   "outputs": [],
   "source": [
    "prd['reorder_ratio'] = prd['_prod_reorder_tot_cnts']/prd['_prod_tot_cnts']\n",
    "prd['_prod_reorder_prob'] = prd._prod_buy_second_time_total_cnt / prd._prod_buy_first_time_total_cnt\n",
    "prd['_prod_reorder_times'] = 1 + prd._prod_reorder_tot_cnts / prd._prod_buy_first_time_total_cnt\n",
    "prd = prd.merge(right=products,how='left',on='product_id')\n",
    "\n",
    "grouped_aisle = prd.groupby('aisle_id')\n",
    "grouped_department = prd.groupby('department_id')"
   ]
  },
  {
   "cell_type": "markdown",
   "metadata": {},
   "source": [
    "*prd* contains 'product_id' of products in *priors* transaction record."
   ]
  },
  {
   "cell_type": "code",
   "execution_count": 7,
   "metadata": {
    "collapsed": false
   },
   "outputs": [
    {
     "name": "stdout",
     "output_type": "stream",
     "text": [
      "processing aisle...\n",
      "processing departments...\n"
     ]
    }
   ],
   "source": [
    "print 'processing aisle...'\n",
    "aisle = pd.concat([grouped_aisle['_prod_tot_cnts'].sum().rename('_aisle_tot_cuts'),\n",
    "           grouped_aisle['_prod_buy_first_time_total_cnt'].sum().rename('_aisle_buy_first_time_total_cnt'),\n",
    "           grouped_aisle['_prod_buy_second_time_total_cnt'].sum().rename('_aisle_buy_second_time_total_cnt'),\n",
    "           grouped_aisle['_prod_reorder_tot_cnts'].sum().rename('_aisle_reorder_tot_cnts')\n",
    "           ],axis=1).reset_index()\n",
    "aisle['_aisle_reorder_prob'] = aisle._aisle_buy_second_time_total_cnt / aisle._aisle_buy_first_time_total_cnt\n",
    "aisle['_aisle_reorder_times'] = 1 + aisle._aisle_reorder_tot_cnts / aisle._aisle_buy_first_time_total_cnt\n",
    "print 'processing departments...'\n",
    "departments = pd.concat([grouped_department['_prod_tot_cnts'].sum().rename('_department_tot_cuts'),\n",
    "           grouped_department['_prod_buy_first_time_total_cnt'].sum().rename('_department_buy_first_time_total_cnt'),\n",
    "           grouped_department['_prod_buy_second_time_total_cnt'].sum().rename('_department_buy_second_time_total_cnt'),\n",
    "           grouped_department['_prod_reorder_tot_cnts'].sum().rename('_department_reorder_tot_cnts')\n",
    "           ],axis=1).reset_index()\n",
    "departments['_department_reorder_prob'] = departments._department_buy_second_time_total_cnt / departments._department_buy_first_time_total_cnt\n",
    "departments['_department_reorder_times'] = 1 + departments._department_reorder_tot_cnts / departments._department_buy_first_time_total_cnt\n"
   ]
  },
  {
   "cell_type": "code",
   "execution_count": 12,
   "metadata": {
    "collapsed": false
   },
   "outputs": [
    {
     "name": "stdout",
     "output_type": "stream",
     "text": [
      "merging everything...\n"
     ]
    },
    {
     "data": {
      "text/html": [
       "<div>\n",
       "<table border=\"1\" class=\"dataframe\">\n",
       "  <thead>\n",
       "    <tr style=\"text-align: right;\">\n",
       "      <th></th>\n",
       "      <th>product_id</th>\n",
       "      <th>_prod_buy_second_time_total_cnt</th>\n",
       "      <th>_prod_buy_first_time_total_cnt</th>\n",
       "      <th>_prod_tot_cnts</th>\n",
       "      <th>_prod_reorder_tot_cnts</th>\n",
       "      <th>reorder_ratio</th>\n",
       "      <th>_prod_reorder_prob</th>\n",
       "      <th>_prod_reorder_times</th>\n",
       "      <th>product_name</th>\n",
       "      <th>aisle_id</th>\n",
       "      <th>...</th>\n",
       "      <th>_aisle_buy_second_time_total_cnt</th>\n",
       "      <th>_aisle_reorder_tot_cnts</th>\n",
       "      <th>_aisle_reorder_prob</th>\n",
       "      <th>_aisle_reorder_times</th>\n",
       "      <th>_department_tot_cuts</th>\n",
       "      <th>_department_buy_first_time_total_cnt</th>\n",
       "      <th>_department_buy_second_time_total_cnt</th>\n",
       "      <th>_department_reorder_tot_cnts</th>\n",
       "      <th>_department_reorder_prob</th>\n",
       "      <th>_department_reorder_times</th>\n",
       "    </tr>\n",
       "  </thead>\n",
       "  <tbody>\n",
       "    <tr>\n",
       "      <th>0</th>\n",
       "      <td>1</td>\n",
       "      <td>276</td>\n",
       "      <td>716</td>\n",
       "      <td>1852</td>\n",
       "      <td>1136.0</td>\n",
       "      <td>0.613391</td>\n",
       "      <td>0.385475</td>\n",
       "      <td>2.586592</td>\n",
       "      <td>Chocolate Sandwich Cookies</td>\n",
       "      <td>61</td>\n",
       "      <td>...</td>\n",
       "      <td>39667</td>\n",
       "      <td>128431.0</td>\n",
       "      <td>0.375514</td>\n",
       "      <td>2.215811</td>\n",
       "      <td>2887550</td>\n",
       "      <td>1229577</td>\n",
       "      <td>483357</td>\n",
       "      <td>1657973.0</td>\n",
       "      <td>0.393108</td>\n",
       "      <td>2.348409</td>\n",
       "    </tr>\n",
       "    <tr>\n",
       "      <th>1</th>\n",
       "      <td>78</td>\n",
       "      <td>3</td>\n",
       "      <td>8</td>\n",
       "      <td>11</td>\n",
       "      <td>3.0</td>\n",
       "      <td>0.272727</td>\n",
       "      <td>0.375000</td>\n",
       "      <td>1.375000</td>\n",
       "      <td>Nutter Butter Cookie Bites Go-Pak</td>\n",
       "      <td>61</td>\n",
       "      <td>...</td>\n",
       "      <td>39667</td>\n",
       "      <td>128431.0</td>\n",
       "      <td>0.375514</td>\n",
       "      <td>2.215811</td>\n",
       "      <td>2887550</td>\n",
       "      <td>1229577</td>\n",
       "      <td>483357</td>\n",
       "      <td>1657973.0</td>\n",
       "      <td>0.393108</td>\n",
       "      <td>2.348409</td>\n",
       "    </tr>\n",
       "  </tbody>\n",
       "</table>\n",
       "<p>2 rows × 25 columns</p>\n",
       "</div>"
      ],
      "text/plain": [
       "   product_id  _prod_buy_second_time_total_cnt  \\\n",
       "0           1                              276   \n",
       "1          78                                3   \n",
       "\n",
       "   _prod_buy_first_time_total_cnt  _prod_tot_cnts  _prod_reorder_tot_cnts  \\\n",
       "0                             716            1852                  1136.0   \n",
       "1                               8              11                     3.0   \n",
       "\n",
       "   reorder_ratio  _prod_reorder_prob  _prod_reorder_times  \\\n",
       "0       0.613391            0.385475             2.586592   \n",
       "1       0.272727            0.375000             1.375000   \n",
       "\n",
       "                        product_name  aisle_id            ...              \\\n",
       "0         Chocolate Sandwich Cookies        61            ...               \n",
       "1  Nutter Butter Cookie Bites Go-Pak        61            ...               \n",
       "\n",
       "   _aisle_buy_second_time_total_cnt _aisle_reorder_tot_cnts  \\\n",
       "0                             39667                128431.0   \n",
       "1                             39667                128431.0   \n",
       "\n",
       "  _aisle_reorder_prob  _aisle_reorder_times  _department_tot_cuts  \\\n",
       "0            0.375514              2.215811               2887550   \n",
       "1            0.375514              2.215811               2887550   \n",
       "\n",
       "   _department_buy_first_time_total_cnt  \\\n",
       "0                               1229577   \n",
       "1                               1229577   \n",
       "\n",
       "   _department_buy_second_time_total_cnt  _department_reorder_tot_cnts  \\\n",
       "0                                 483357                     1657973.0   \n",
       "1                                 483357                     1657973.0   \n",
       "\n",
       "   _department_reorder_prob  _department_reorder_times  \n",
       "0                  0.393108                   2.348409  \n",
       "1                  0.393108                   2.348409  \n",
       "\n",
       "[2 rows x 25 columns]"
      ]
     },
     "execution_count": 12,
     "metadata": {},
     "output_type": "execute_result"
    }
   ],
   "source": [
    "print 'merging everything...'\n",
    "prd=prd.merge(aisle, how='inner',on='aisle_id')\n",
    "prd=prd.merge(departments,how='inner',on='department_id')\n",
    "prd.head(2)"
   ]
  },
  {
   "cell_type": "code",
   "execution_count": 14,
   "metadata": {
    "collapsed": false
   },
   "outputs": [],
   "source": [
    "#Clean wasteful\n",
    "del aisle\n",
    "del departments\n",
    "gc.collect()\n",
    "prd = prd.drop(['product_name','aisle','department','aisle_id','department_id'],axis=1)\n",
    "del grouped_aisle\n",
    "del grouped_department\n",
    "gc.collect()"
   ]
  },
  {
   "cell_type": "markdown",
   "metadata": {},
   "source": [
    "Start generating features on each user"
   ]
  },
  {
   "cell_type": "code",
   "execution_count": 17,
   "metadata": {
    "collapsed": false
   },
   "outputs": [
    {
     "name": "stdout",
     "output_type": "stream",
     "text": [
      "add stats features begin ......\n",
      "add stats features end ......\n",
      "time lapsing 0.304536104202 s \n",
      "\n"
     ]
    }
   ],
   "source": [
    "# _user_reorder_ratio: number of reorders / number of 'come back' order\n",
    "# _user_total_products: total number of products this user had ever bought\n",
    "# _user_distinct_products: total number of unique products this user had ever bought\n",
    "# _user_average_product: average number of products this user makes in one order\n",
    "\n",
    "agg_dict_2 = {'order_number':{'_user_total_orders':'max'},\n",
    "              'days_since_prior_order':{'_user_sum_days_since_prior_order':'sum', \n",
    "                                        '_user_mean_days_since_prior_order': 'mean'}}\n",
    "users = ka_add_groupby_features_1_vs_n(orders[orders.eval_set == 'prior'], ['user_id'], agg_dict_2)\n",
    "user_id_group = priors_orders_detail.groupby('user_id')\n",
    "user_total_products = user_id_group['product_id'].count().rename('_user_total_products')\n",
    "user_distinct_products = user_id_group['product_id'].nunique().rename('_user_distinct_products')\n",
    "user_reorder_ratio = (user_id_group['reordered'].sum()/priors_orders_detail[priors_orders_detail['order_number'] > 1].groupby('user_id')['order_number'].count()).rename('_user_reorder_ratio')\n",
    "us = pd.concat([user_total_products,user_distinct_products,user_reorder_ratio], axis=1).reset_index()\n",
    "users = users.merge(us, how='inner')\n",
    "users['_user_average_product'] = 1.0* users._user_total_products / users._user_total_orders\n",
    "del user_id_group\n",
    "del user_total_products\n",
    "del user_distinct_products\n",
    "del user_reorder_ratio"
   ]
  },
  {
   "cell_type": "code",
   "execution_count": 18,
   "metadata": {
    "collapsed": false
   },
   "outputs": [],
   "source": [
    "# _user_largest_order: The largest number of products this user ever made in one order\n",
    "# _user_smallest_order: The opposite\n",
    "\n",
    "temp = priors_orders_detail.groupby(['order_id', 'user_id'])['add_to_cart_order'].max()\n",
    "temp = temp.reset_index()\n",
    "temp=temp.groupby('user_id')['add_to_cart_order'].agg([np.max, np.min]).reset_index()\n",
    "temp = temp.rename(columns={'amax':'_user_largest_order','amin':'_user_smallest_order'})\n",
    "users = users.merge(temp,on='user_id')\n",
    "del temp\n"
   ]
  },
  {
   "cell_type": "code",
   "execution_count": 19,
   "metadata": {
    "collapsed": false
   },
   "outputs": [
    {
     "data": {
      "text/html": [
       "<div>\n",
       "<table border=\"1\" class=\"dataframe\">\n",
       "  <thead>\n",
       "    <tr style=\"text-align: right;\">\n",
       "      <th></th>\n",
       "      <th>user_id</th>\n",
       "      <th>_user_mean_days_since_prior_order</th>\n",
       "      <th>_user_sum_days_since_prior_order</th>\n",
       "      <th>_user_total_orders</th>\n",
       "      <th>_user_total_products</th>\n",
       "      <th>_user_distinct_products</th>\n",
       "      <th>_user_reorder_ratio</th>\n",
       "      <th>_user_average_product</th>\n",
       "      <th>_user_largest_order</th>\n",
       "      <th>_user_smallest_order</th>\n",
       "      <th>_user_average_basket</th>\n",
       "      <th>order_id</th>\n",
       "      <th>eval_set</th>\n",
       "      <th>time_since_last_order</th>\n",
       "    </tr>\n",
       "  </thead>\n",
       "  <tbody>\n",
       "    <tr>\n",
       "      <th>0</th>\n",
       "      <td>1</td>\n",
       "      <td>19.555555</td>\n",
       "      <td>176.0</td>\n",
       "      <td>10</td>\n",
       "      <td>59</td>\n",
       "      <td>18</td>\n",
       "      <td>0.759259</td>\n",
       "      <td>5.900000</td>\n",
       "      <td>9</td>\n",
       "      <td>4</td>\n",
       "      <td>5.900000</td>\n",
       "      <td>1187899</td>\n",
       "      <td>train</td>\n",
       "      <td>14.0</td>\n",
       "    </tr>\n",
       "    <tr>\n",
       "      <th>1</th>\n",
       "      <td>2</td>\n",
       "      <td>15.230769</td>\n",
       "      <td>198.0</td>\n",
       "      <td>14</td>\n",
       "      <td>195</td>\n",
       "      <td>102</td>\n",
       "      <td>0.510989</td>\n",
       "      <td>13.928571</td>\n",
       "      <td>26</td>\n",
       "      <td>5</td>\n",
       "      <td>13.928571</td>\n",
       "      <td>1492625</td>\n",
       "      <td>train</td>\n",
       "      <td>30.0</td>\n",
       "    </tr>\n",
       "    <tr>\n",
       "      <th>2</th>\n",
       "      <td>3</td>\n",
       "      <td>12.090909</td>\n",
       "      <td>133.0</td>\n",
       "      <td>12</td>\n",
       "      <td>88</td>\n",
       "      <td>33</td>\n",
       "      <td>0.705128</td>\n",
       "      <td>7.333333</td>\n",
       "      <td>11</td>\n",
       "      <td>5</td>\n",
       "      <td>7.333333</td>\n",
       "      <td>2774568</td>\n",
       "      <td>test</td>\n",
       "      <td>11.0</td>\n",
       "    </tr>\n",
       "    <tr>\n",
       "      <th>3</th>\n",
       "      <td>4</td>\n",
       "      <td>13.750000</td>\n",
       "      <td>55.0</td>\n",
       "      <td>5</td>\n",
       "      <td>18</td>\n",
       "      <td>17</td>\n",
       "      <td>0.071429</td>\n",
       "      <td>3.600000</td>\n",
       "      <td>7</td>\n",
       "      <td>2</td>\n",
       "      <td>3.600000</td>\n",
       "      <td>329954</td>\n",
       "      <td>test</td>\n",
       "      <td>30.0</td>\n",
       "    </tr>\n",
       "    <tr>\n",
       "      <th>4</th>\n",
       "      <td>5</td>\n",
       "      <td>13.333333</td>\n",
       "      <td>40.0</td>\n",
       "      <td>4</td>\n",
       "      <td>37</td>\n",
       "      <td>23</td>\n",
       "      <td>0.538462</td>\n",
       "      <td>9.250000</td>\n",
       "      <td>12</td>\n",
       "      <td>5</td>\n",
       "      <td>9.250000</td>\n",
       "      <td>2196797</td>\n",
       "      <td>train</td>\n",
       "      <td>6.0</td>\n",
       "    </tr>\n",
       "  </tbody>\n",
       "</table>\n",
       "</div>"
      ],
      "text/plain": [
       "   user_id  _user_mean_days_since_prior_order  \\\n",
       "0        1                          19.555555   \n",
       "1        2                          15.230769   \n",
       "2        3                          12.090909   \n",
       "3        4                          13.750000   \n",
       "4        5                          13.333333   \n",
       "\n",
       "   _user_sum_days_since_prior_order  _user_total_orders  _user_total_products  \\\n",
       "0                             176.0                  10                    59   \n",
       "1                             198.0                  14                   195   \n",
       "2                             133.0                  12                    88   \n",
       "3                              55.0                   5                    18   \n",
       "4                              40.0                   4                    37   \n",
       "\n",
       "   _user_distinct_products  _user_reorder_ratio  _user_average_product  \\\n",
       "0                       18             0.759259               5.900000   \n",
       "1                      102             0.510989              13.928571   \n",
       "2                       33             0.705128               7.333333   \n",
       "3                       17             0.071429               3.600000   \n",
       "4                       23             0.538462               9.250000   \n",
       "\n",
       "   _user_largest_order  _user_smallest_order  _user_average_basket  order_id  \\\n",
       "0                    9                     4              5.900000   1187899   \n",
       "1                   26                     5             13.928571   1492625   \n",
       "2                   11                     5              7.333333   2774568   \n",
       "3                    7                     2              3.600000    329954   \n",
       "4                   12                     5              9.250000   2196797   \n",
       "\n",
       "  eval_set  time_since_last_order  \n",
       "0    train                   14.0  \n",
       "1    train                   30.0  \n",
       "2     test                   11.0  \n",
       "3     test                   30.0  \n",
       "4    train                    6.0  "
      ]
     },
     "execution_count": 19,
     "metadata": {},
     "output_type": "execute_result"
    }
   ],
   "source": [
    "users['_user_average_basket'] = users._user_total_products / users._user_total_orders\n",
    "us = orders[orders.eval_set != \"prior\"][['user_id', 'order_id', 'eval_set', 'days_since_prior_order']]\n",
    "us.rename(index=str, columns={'days_since_prior_order': 'time_since_last_order'}, inplace=True)\n",
    "users = users.merge(us, how='inner')\n",
    "del us\n",
    "gc.collect()\n",
    "users.head()"
   ]
  },
  {
   "cell_type": "code",
   "execution_count": 20,
   "metadata": {
    "collapsed": false
   },
   "outputs": [
    {
     "name": "stdout",
     "output_type": "stream",
     "text": [
      "add stats features begin ......\n",
      "add stats features end ......\n",
      "time lapsing 16.0542259216 s \n",
      "\n"
     ]
    },
    {
     "data": {
      "text/html": [
       "<div>\n",
       "<table border=\"1\" class=\"dataframe\">\n",
       "  <thead>\n",
       "    <tr style=\"text-align: right;\">\n",
       "      <th></th>\n",
       "      <th>user_id</th>\n",
       "      <th>product_id</th>\n",
       "      <th>_up_average_cart_position</th>\n",
       "      <th>_up_order_count</th>\n",
       "      <th>_up_first_order_number</th>\n",
       "      <th>_up_last_order_number</th>\n",
       "      <th>_prod_buy_second_time_total_cnt</th>\n",
       "      <th>_prod_buy_first_time_total_cnt</th>\n",
       "      <th>_prod_tot_cnts</th>\n",
       "      <th>_prod_reorder_tot_cnts</th>\n",
       "      <th>...</th>\n",
       "      <th>_user_total_products</th>\n",
       "      <th>_user_distinct_products</th>\n",
       "      <th>_user_reorder_ratio</th>\n",
       "      <th>_user_average_product</th>\n",
       "      <th>_user_largest_order</th>\n",
       "      <th>_user_smallest_order</th>\n",
       "      <th>_user_average_basket</th>\n",
       "      <th>order_id</th>\n",
       "      <th>eval_set</th>\n",
       "      <th>time_since_last_order</th>\n",
       "    </tr>\n",
       "  </thead>\n",
       "  <tbody>\n",
       "    <tr>\n",
       "      <th>0</th>\n",
       "      <td>1</td>\n",
       "      <td>196</td>\n",
       "      <td>1.400000</td>\n",
       "      <td>10</td>\n",
       "      <td>1</td>\n",
       "      <td>10</td>\n",
       "      <td>4660</td>\n",
       "      <td>8000</td>\n",
       "      <td>35791</td>\n",
       "      <td>27791.0</td>\n",
       "      <td>...</td>\n",
       "      <td>59</td>\n",
       "      <td>18</td>\n",
       "      <td>0.759259</td>\n",
       "      <td>5.9</td>\n",
       "      <td>9</td>\n",
       "      <td>4</td>\n",
       "      <td>5.9</td>\n",
       "      <td>1187899</td>\n",
       "      <td>train</td>\n",
       "      <td>14.0</td>\n",
       "    </tr>\n",
       "    <tr>\n",
       "      <th>1</th>\n",
       "      <td>1</td>\n",
       "      <td>10258</td>\n",
       "      <td>3.333333</td>\n",
       "      <td>9</td>\n",
       "      <td>2</td>\n",
       "      <td>10</td>\n",
       "      <td>308</td>\n",
       "      <td>557</td>\n",
       "      <td>1946</td>\n",
       "      <td>1389.0</td>\n",
       "      <td>...</td>\n",
       "      <td>59</td>\n",
       "      <td>18</td>\n",
       "      <td>0.759259</td>\n",
       "      <td>5.9</td>\n",
       "      <td>9</td>\n",
       "      <td>4</td>\n",
       "      <td>5.9</td>\n",
       "      <td>1187899</td>\n",
       "      <td>train</td>\n",
       "      <td>14.0</td>\n",
       "    </tr>\n",
       "    <tr>\n",
       "      <th>2</th>\n",
       "      <td>1</td>\n",
       "      <td>10326</td>\n",
       "      <td>5.000000</td>\n",
       "      <td>1</td>\n",
       "      <td>5</td>\n",
       "      <td>5</td>\n",
       "      <td>1003</td>\n",
       "      <td>1923</td>\n",
       "      <td>5526</td>\n",
       "      <td>3603.0</td>\n",
       "      <td>...</td>\n",
       "      <td>59</td>\n",
       "      <td>18</td>\n",
       "      <td>0.759259</td>\n",
       "      <td>5.9</td>\n",
       "      <td>9</td>\n",
       "      <td>4</td>\n",
       "      <td>5.9</td>\n",
       "      <td>1187899</td>\n",
       "      <td>train</td>\n",
       "      <td>14.0</td>\n",
       "    </tr>\n",
       "    <tr>\n",
       "      <th>3</th>\n",
       "      <td>1</td>\n",
       "      <td>12427</td>\n",
       "      <td>3.300000</td>\n",
       "      <td>10</td>\n",
       "      <td>1</td>\n",
       "      <td>10</td>\n",
       "      <td>889</td>\n",
       "      <td>1679</td>\n",
       "      <td>6476</td>\n",
       "      <td>4797.0</td>\n",
       "      <td>...</td>\n",
       "      <td>59</td>\n",
       "      <td>18</td>\n",
       "      <td>0.759259</td>\n",
       "      <td>5.9</td>\n",
       "      <td>9</td>\n",
       "      <td>4</td>\n",
       "      <td>5.9</td>\n",
       "      <td>1187899</td>\n",
       "      <td>train</td>\n",
       "      <td>14.0</td>\n",
       "    </tr>\n",
       "    <tr>\n",
       "      <th>4</th>\n",
       "      <td>1</td>\n",
       "      <td>13032</td>\n",
       "      <td>6.333333</td>\n",
       "      <td>3</td>\n",
       "      <td>2</td>\n",
       "      <td>10</td>\n",
       "      <td>617</td>\n",
       "      <td>1286</td>\n",
       "      <td>3751</td>\n",
       "      <td>2465.0</td>\n",
       "      <td>...</td>\n",
       "      <td>59</td>\n",
       "      <td>18</td>\n",
       "      <td>0.759259</td>\n",
       "      <td>5.9</td>\n",
       "      <td>9</td>\n",
       "      <td>4</td>\n",
       "      <td>5.9</td>\n",
       "      <td>1187899</td>\n",
       "      <td>train</td>\n",
       "      <td>14.0</td>\n",
       "    </tr>\n",
       "  </tbody>\n",
       "</table>\n",
       "<p>5 rows × 38 columns</p>\n",
       "</div>"
      ],
      "text/plain": [
       "   user_id  product_id  _up_average_cart_position  _up_order_count  \\\n",
       "0        1         196                   1.400000               10   \n",
       "1        1       10258                   3.333333                9   \n",
       "2        1       10326                   5.000000                1   \n",
       "3        1       12427                   3.300000               10   \n",
       "4        1       13032                   6.333333                3   \n",
       "\n",
       "   _up_first_order_number  _up_last_order_number  \\\n",
       "0                       1                     10   \n",
       "1                       2                     10   \n",
       "2                       5                      5   \n",
       "3                       1                     10   \n",
       "4                       2                     10   \n",
       "\n",
       "   _prod_buy_second_time_total_cnt  _prod_buy_first_time_total_cnt  \\\n",
       "0                             4660                            8000   \n",
       "1                              308                             557   \n",
       "2                             1003                            1923   \n",
       "3                              889                            1679   \n",
       "4                              617                            1286   \n",
       "\n",
       "   _prod_tot_cnts  _prod_reorder_tot_cnts          ...            \\\n",
       "0           35791                 27791.0          ...             \n",
       "1            1946                  1389.0          ...             \n",
       "2            5526                  3603.0          ...             \n",
       "3            6476                  4797.0          ...             \n",
       "4            3751                  2465.0          ...             \n",
       "\n",
       "   _user_total_products  _user_distinct_products  _user_reorder_ratio  \\\n",
       "0                    59                       18             0.759259   \n",
       "1                    59                       18             0.759259   \n",
       "2                    59                       18             0.759259   \n",
       "3                    59                       18             0.759259   \n",
       "4                    59                       18             0.759259   \n",
       "\n",
       "   _user_average_product  _user_largest_order  _user_smallest_order  \\\n",
       "0                    5.9                    9                     4   \n",
       "1                    5.9                    9                     4   \n",
       "2                    5.9                    9                     4   \n",
       "3                    5.9                    9                     4   \n",
       "4                    5.9                    9                     4   \n",
       "\n",
       "   _user_average_basket  order_id  eval_set  time_since_last_order  \n",
       "0                   5.9   1187899     train                   14.0  \n",
       "1                   5.9   1187899     train                   14.0  \n",
       "2                   5.9   1187899     train                   14.0  \n",
       "3                   5.9   1187899     train                   14.0  \n",
       "4                   5.9   1187899     train                   14.0  \n",
       "\n",
       "[5 rows x 38 columns]"
      ]
     },
     "execution_count": 20,
     "metadata": {},
     "output_type": "execute_result"
    }
   ],
   "source": [
    "#user_product pair stats features\n",
    "agg_dict_4 = {'order_number':{'_up_order_count': 'count', \n",
    "                              '_up_first_order_number': 'min', \n",
    "                              '_up_last_order_number':'max'}, \n",
    "              'add_to_cart_order':{'_up_average_cart_position': 'mean'}}\n",
    "\n",
    "user_product = ka_add_groupby_features_1_vs_n(df=priors_orders_detail, \n",
    "                                                      group_columns_list=['user_id', 'product_id'], \n",
    "                                                      agg_dict=agg_dict_4)\n",
    "user_product = user_product.merge(prd, how='inner', on='product_id').merge(users, how='inner', on='user_id')\n",
    "user_product.head()"
   ]
  },
  {
   "cell_type": "code",
   "execution_count": 22,
   "metadata": {
    "collapsed": false
   },
   "outputs": [],
   "source": [
    "user_product['_up_order_rate'] = user_product._up_order_count / user_product._user_total_orders\n",
    "user_product['_up_order_since_last_order'] = user_product._user_total_orders - user_product._up_last_order_number\n",
    "user_product['_up_order_rate_since_first_order'] = user_product._up_order_count / (user_product._user_total_orders - user_product._up_first_order_number + 1)"
   ]
  },
  {
   "cell_type": "code",
   "execution_count": 23,
   "metadata": {
    "collapsed": false
   },
   "outputs": [
    {
     "data": {
      "text/plain": [
       "(13307953, 41)"
      ]
     },
     "execution_count": 23,
     "metadata": {},
     "output_type": "execute_result"
    }
   ],
   "source": [
    "user_product.shape"
   ]
  },
  {
   "cell_type": "code",
   "execution_count": 27,
   "metadata": {
    "collapsed": false
   },
   "outputs": [
    {
     "data": {
      "text/plain": [
       "378"
      ]
     },
     "execution_count": 27,
     "metadata": {},
     "output_type": "execute_result"
    }
   ],
   "source": [
    "# add user_id to train set\n",
    "train = train.merge(right=orders[['order_id', 'user_id']], how='left', on='order_id')\n",
    "\n",
    "# Add 'reordered' feature to 'data'. For all user-product pair, in 'train' df we should have reordered=1\n",
    "# if this pair appears in the 'train' df, and should gives 'NaN' if it doesn't appear.\n",
    "\n",
    "# Underlying assumption: a user won't buy new staff, which didn't appear in 'prior' session.\n",
    "\n",
    "# *And this might be a bad assumption*\n",
    "\n",
    "user_product = user_product.merge(train[['user_id', 'product_id', 'reordered']], on=['user_id', 'product_id'], how='left')\n",
    "\n",
    "# release Memory\n",
    "del train, prd, users, priors_orders_detail, orders\n",
    "gc.collect()"
   ]
  },
  {
   "cell_type": "code",
   "execution_count": 28,
   "metadata": {
    "collapsed": false
   },
   "outputs": [],
   "source": [
    "user_product._prod_reorder_tot_cnts=user_product._prod_reorder_tot_cnts.astype(np.int32)\n",
    "user_product.time_since_last_order = user_product.time_since_last_order.astype(np.int32)\n",
    "user_product._user_sum_days_since_prior_order=user_product._user_sum_days_since_prior_order.astype(np.int32)\n",
    "user_product._aisle_reorder_tot_cnts = user_product._aisle_reorder_tot_cnts.astype(np.int32)\n",
    "user_product._department_reorder_tot_cnts = user_product._department_reorder_tot_cnts.astype(np.int32)"
   ]
  },
  {
   "cell_type": "markdown",
   "metadata": {},
   "source": [
    "This data df contains information on all user-product pair that appeared before in the prior transaction record."
   ]
  },
  {
   "cell_type": "code",
   "execution_count": 32,
   "metadata": {
    "collapsed": false,
    "scrolled": true
   },
   "outputs": [
    {
     "name": "stdout",
     "output_type": "stream",
     "text": [
      "Number of colums adjusted: 26\n",
      "\n"
     ]
    },
    {
     "name": "stderr",
     "output_type": "stream",
     "text": [
      "/usr/local/lib/python2.7/site-packages/ipykernel/__main__.py:19: SettingWithCopyWarning: \n",
      "A value is trying to be set on a copy of a slice from a DataFrame\n",
      "\n",
      "See the caveats in the documentation: http://pandas.pydata.org/pandas-docs/stable/indexing.html#indexing-view-versus-copy\n"
     ]
    },
    {
     "name": "stdout",
     "output_type": "stream",
     "text": [
      "Reduced size 75.75%\n"
     ]
    }
   ],
   "source": [
    "import sys\n",
    "def compress(data):\n",
    "    starting_size = sys.getsizeof(data)\n",
    "    i = 0\n",
    "    for c, dtype in zip(data.columns, data.dtypes):\n",
    "        if 'int' in str(dtype):\n",
    "            if min(data[c]) >=0:\n",
    "                max_int =  max(data[c])\n",
    "                if max_int <= 255:\n",
    "                    data[c] = data[c].astype(np.uint8)\n",
    "                elif max_int <= 65535:\n",
    "                    data[c] = data[c].astype(np.uint16)\n",
    "                elif max_int <= 4294967295:\n",
    "                    data[c] = data[c].astype(np.uint32)\n",
    "                i += 1\n",
    "    print(\"Number of colums adjusted: {}\\n\".format(i))\n",
    "    ## Changing known reorderd col to smaller int size\n",
    "    data['reordered'] = np.nan_to_num(data['reordered']).astype(np.uint8)\n",
    "    data['reordered'][data['reordered']==0] = np.nan\n",
    "    print(\"Reduced size {:.2%}\".format(float(sys.getsizeof(data))/float(starting_size)))\n",
    "    return data\n",
    "user_product = compress(user_product)"
   ]
  },
  {
   "cell_type": "code",
   "execution_count": 33,
   "metadata": {
    "collapsed": false
   },
   "outputs": [],
   "source": [
    "# save to a pickle file\n",
    "# This is a 2.65GB large dataset...\n",
    "user_product.to_pickle('user_product.pkl')"
   ]
  },
  {
   "cell_type": "code",
   "execution_count": 34,
   "metadata": {
    "collapsed": false
   },
   "outputs": [
    {
     "data": {
      "text/plain": [
       "374"
      ]
     },
     "execution_count": 34,
     "metadata": {},
     "output_type": "execute_result"
    }
   ],
   "source": [
    "del user_product\n",
    "gc.collect()"
   ]
  },
  {
   "cell_type": "code",
   "execution_count": null,
   "metadata": {
    "collapsed": true
   },
   "outputs": [],
   "source": []
  }
 ],
 "metadata": {
  "kernelspec": {
   "display_name": "Python 2",
   "language": "python",
   "name": "python2"
  },
  "language_info": {
   "codemirror_mode": {
    "name": "ipython",
    "version": 2
   },
   "file_extension": ".py",
   "mimetype": "text/x-python",
   "name": "python",
   "nbconvert_exporter": "python",
   "pygments_lexer": "ipython2",
   "version": "2.7.10"
  }
 },
 "nbformat": 4,
 "nbformat_minor": 0
}
